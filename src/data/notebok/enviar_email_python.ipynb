{
 "cells": [
  {
   "cell_type": "code",
   "execution_count": null,
   "id": "e162a3b4",
   "metadata": {},
   "outputs": [],
   "source": [
    "import os\n",
    "import smtplib\n",
    "from email.message import EmailMessage"
   ]
  },
  {
   "cell_type": "markdown",
   "id": "68a54be2",
   "metadata": {},
   "source": [
    "# Cofigurando o e-mail\n",
    "\n",
    "https://myaccount.google.com/apppasswords"
   ]
  },
  {
   "cell_type": "code",
   "execution_count": null,
   "id": "dc8f582c",
   "metadata": {},
   "outputs": [],
   "source": [
    "email = \"seuemail@gmail.com\""
   ]
  },
  {
   "cell_type": "code",
   "execution_count": null,
   "id": "ac3c08ac",
   "metadata": {},
   "outputs": [],
   "source": [
    "with open('senha.txt') as f:\n",
    "    senha = f.readlines()\n",
    "    \n",
    "    f.close()\n",
    "    \n",
    "senha_do_email = senha[0]\n",
    "\n",
    "senha_do_email"
   ]
  },
  {
   "cell_type": "code",
   "execution_count": null,
   "id": "47e444d9",
   "metadata": {},
   "outputs": [],
   "source": [
    "msg = EmailMessage()\n",
    "msg['Subject']  = 'Enviando e-mail com Python'\n",
    "msg['From'] = 'seuemail@gmail.com'\n",
    "msg['To'] = 'qualquercoisa@gmail.com'\n",
    "msg.set_content(\"Segue o relatório diário\")"
   ]
  },
  {
   "cell_type": "code",
   "execution_count": null,
   "id": "28516424",
   "metadata": {},
   "outputs": [],
   "source": [
    "with open('relatorio_diario.pdf', 'rb') as content_file:\n",
    "    content = content_file.read()\n",
    "    msg.add_attachment(content, maintype='application', subtype='pdf', filename='relatorio_diario.pdf')"
   ]
  },
  {
   "cell_type": "code",
   "execution_count": null,
   "id": "50abc3a5",
   "metadata": {},
   "outputs": [],
   "source": [
    "with open('dolar.png', 'rb') as content_file:\n",
    "    content = content_file.read()\n",
    "    msg.add_attachment(content, maintype='application', subtype='png', filename='dolar.png')"
   ]
  },
  {
   "cell_type": "code",
   "execution_count": null,
   "id": "d1848035",
   "metadata": {},
   "outputs": [],
   "source": [
    "with smtplib.SMTP_SSL('smtp.gmail.com', 465) as smtp:\n",
    "    \n",
    "    smtp.login(email, senha_do_email)\n",
    "    smtp.send_message(msg)"
   ]
  },
  {
   "cell_type": "code",
   "execution_count": null,
   "id": "8a5697ed",
   "metadata": {},
   "outputs": [],
   "source": []
  }
 ],
 "metadata": {
  "kernelspec": {
   "display_name": "Python 3 (ipykernel)",
   "language": "python",
   "name": "python3"
  },
  "language_info": {
   "codemirror_mode": {
    "name": "ipython",
    "version": 3
   },
   "file_extension": ".py",
   "mimetype": "text/x-python",
   "name": "python",
   "nbconvert_exporter": "python",
   "pygments_lexer": "ipython3",
   "version": "3.9.12"
  }
 },
 "nbformat": 4,
 "nbformat_minor": 5
}
